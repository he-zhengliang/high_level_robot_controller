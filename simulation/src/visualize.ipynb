{
 "cells": [
  {
   "cell_type": "code",
   "execution_count": 70,
   "metadata": {},
   "outputs": [
    {
     "data": {
      "image/png": "[encoded data removed]",
      "text/plain": [
       "<Figure size 432x288 with 1 Axes>"
      ]
     },
     "metadata": {
      "needs_background": "light"
     },
     "output_type": "display_data"
    }
   ],
   "source": [
    "import numpy as np\n",
    "from matplotlib import pyplot as plt\n",
    "\n",
    "def get_marked_string(marker:str, search_string:str) -> str:\n",
    "    start_marker = \"<\" + marker + \">\"\n",
    "    end_marker = \"</\" + marker + \">\"\n",
    "\n",
    "    start = search_string.find(start_marker) + len(start_marker)\n",
    "    if start == -1:\n",
    "        raise RuntimeError(f\"Failed to find <{marker}>\\n\")\n",
    "    end = search_string.find(end_marker)\n",
    "    if end == -1:\n",
    "        raise RuntimeError(f\"Failed to find </{marker}>\\n\")\n",
    "\n",
    "    return file_string[start:end]\n",
    "\n",
    "with open(\"/home/alexm/log_file.txt\") as file:\n",
    "    file_string = file.read()\n",
    "\n",
    "    num_samples = int(get_marked_string(\"num_samples\", file_string))\n",
    "    size = int(get_marked_string(\"input_size\", file_string))\n",
    "\n",
    "    data = np.zeros((size, num_samples))\n",
    "    data_string = get_marked_string(\"data\", file_string)\n",
    "    data_string_lines = data_string.split(\"\\n\")\n",
    "\n",
    "    line_counter = 0\n",
    "    for line in data_string_lines:\n",
    "        if line:\n",
    "            for point, i in zip(line.split(), range(num_samples)):\n",
    "                data[line_counter, i] = float(point)\n",
    "            line_counter += 1\n",
    "        \n",
    "\n",
    "    times = np.zeros((num_samples,))\n",
    "\n",
    "    time_string = get_marked_string(\"times\", file_string)\n",
    "    for point, i in zip(time_string.split(), range(num_samples)):\n",
    "        try:\n",
    "            times[i] = float(point)\n",
    "        except:\n",
    "            print(\"Failed {}\".format(point))\n",
    "\n",
    "with open(\"/home/alexm/dlog_file.txt\") as file:\n",
    "    file_string = file.read()\n",
    "\n",
    "    num_samples = int(get_marked_string(\"num_samples\", file_string))\n",
    "    size = int(get_marked_string(\"input_size\", file_string))\n",
    "\n",
    "    ddata = np.zeros((size, num_samples))\n",
    "    data_string = get_marked_string(\"data\", file_string)\n",
    "    data_string_lines = data_string.split(\"\\n\")\n",
    "\n",
    "    line_counter = 0\n",
    "    for line in data_string_lines:\n",
    "        if line:\n",
    "            for point, i in zip(line.split(), range(num_samples)):\n",
    "                ddata[line_counter, i] = float(point)\n",
    "            line_counter += 1\n",
    "        \n",
    "    dtimes = np.zeros((num_samples,))\n",
    "\n",
    "    time_string = get_marked_string(\"times\", file_string)\n",
    "    for point, i in zip(time_string.split(), range(num_samples)):\n",
    "        try:\n",
    "            dtimes[i] = float(point)\n",
    "        except:\n",
    "            print(\"Failed {}\".format(point))\n",
    "\n",
    "plt.plot(times, data[2, :])\n",
    "plt.plot(dtimes, ddata[2, :])\n",
    "plt.show()\n"
   ]
  }
 ],
 "metadata": {
  "kernelspec": {
   "display_name": "Python 3",
   "language": "python",
   "name": "python3"
  },
  "language_info": {
   "codemirror_mode": {
    "name": "ipython",
    "version": 3
   },
   "file_extension": ".py",
   "mimetype": "text/x-python",
   "name": "python",
   "nbconvert_exporter": "python",
   "pygments_lexer": "ipython3",
   "version": "3.10.12"
  }
 },
 "nbformat": 4,
 "nbformat_minor": 2
}
