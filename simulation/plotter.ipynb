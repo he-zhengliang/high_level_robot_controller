{
 "cells": [
  {
   "cell_type": "code",
   "execution_count": 7,
   "metadata": {},
   "outputs": [],
   "source": [
    "from matplotlib import pyplot as plt\n",
    "import numpy as np"
   ]
  },
  {
   "cell_type": "code",
   "execution_count": 8,
   "metadata": {},
   "outputs": [],
   "source": [
    "def parse(input_string:str) -> dict:\n",
    "    x = input_string.split('<')\n",
    "    a = []\n",
    "    for y in x:\n",
    "        if len(y) > 0:\n",
    "            a += [y.split('>')]\n",
    "\n",
    "    path = []\n",
    "    temp_dict = {}\n",
    "\n",
    "    output_data = {}\n",
    "    data_keys = []\n",
    "\n",
    "    for b in a:\n",
    "        if len(b[1].strip()) > 0:\n",
    "            temp_dict['/'.join(path+[b[0]])] = b[1]\n",
    "        elif b[0][0] == '/':\n",
    "            if path[-1] == b[0][1:]:\n",
    "                path.pop()\n",
    "        else:\n",
    "            if path == []:\n",
    "                data_keys.append(b[0])\n",
    "            path.append(b[0])\n",
    "    for key in data_keys:\n",
    "        num_samples = int(temp_dict[key + '/num_samples'])\n",
    "        input_size = int(temp_dict[key + '/input_size'])\n",
    "        sample_times = np.array([float(x) for x in temp_dict[key + '/sample_times'].split()])\n",
    "        data = np.array([[float(x) for x in line.split()] for line in temp_dict[key + '/data'].split('\\n')])\n",
    "        output_data[key + '/sample_times'] = sample_times\n",
    "        output_data[key + '/data'] = data\n",
    "    \n",
    "    output_data['keys'] = data_keys\n",
    "\n",
    "    return output_data"
   ]
  },
  {
   "cell_type": "code",
   "execution_count": 14,
   "metadata": {},
   "outputs": [
    {
     "name": "stdout",
     "output_type": "stream",
     "text": [
      "['abb_state']\n",
      "10001\n"
     ]
    },
    {
     "data": {
      "image/png": "[encoded data removed]",
      "text/plain": [
       "<Figure size 432x288 with 1 Axes>"
      ]
     },
     "metadata": {
      "needs_background": "light"
     },
     "output_type": "display_data"
    }
   ],
   "source": [
    "with open(\"/home/alexm/simulation_logs/abb_network_log.txt\") as file:\n",
    "    fstr = file.read()\n",
    "\n",
    "x = parse(fstr)\n",
    "print(x['keys'])\n",
    "\n",
    "print(len(x['abb_state/data'][0]))\n",
    "\n",
    "for i in range(6):\n",
    "    plt.plot(x['abb_state/sample_times'], x['abb_state/data'][i, :])\n",
    "plt.legend([i+1 for i in range(6)])\n",
    "plt.show()"
   ]
  }
 ],
 "metadata": {
  "kernelspec": {
   "display_name": "Python 3",
   "language": "python",
   "name": "python3"
  },
  "language_info": {
   "codemirror_mode": {
    "name": "ipython",
    "version": 3
   },
   "file_extension": ".py",
   "mimetype": "text/x-python",
   "name": "python",
   "nbconvert_exporter": "python",
   "pygments_lexer": "ipython3",
   "version": "3.10.12"
  }
 },
 "nbformat": 4,
 "nbformat_minor": 2
}
